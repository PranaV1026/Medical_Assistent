{
 "cells": [
  {
   "cell_type": "code",
   "execution_count": 38,
   "id": "61ab7789",
   "metadata": {},
   "outputs": [],
   "source": [
    "import pandas as pd\n",
    "from sklearn import preprocessing\n",
    "from sklearn.tree import DecisionTreeClassifier,_tree\n",
    "import numpy as np\n",
    "from sklearn.model_selection import train_test_split\n",
    "from sklearn import model_selection\n",
    "from sklearn.tree import export_graphviz\n",
    "import warnings\n",
    "warnings.filterwarnings(\"ignore\", category=DeprecationWarning)\n",
    "\n"
   ]
  },
  {
   "cell_type": "code",
   "execution_count": 39,
   "id": "5e6e87b3",
   "metadata": {},
   "outputs": [],
   "source": [
    "\n",
    "training = pd.read_csv('training2.csv')\n",
    "testing  = pd.read_csv('testing2.csv')\n",
    "cols     = training.columns\n"
   ]
  },
  {
   "cell_type": "code",
   "execution_count": 40,
   "id": "0b29de30",
   "metadata": {},
   "outputs": [
    {
     "name": "stdout",
     "output_type": "stream",
     "text": [
      "<class 'pandas.core.frame.DataFrame'>\n",
      "RangeIndex: 4920 entries, 0 to 4919\n",
      "Columns: 133 entries, itching to prognosis\n",
      "dtypes: int64(132), object(1)\n",
      "memory usage: 5.0+ MB\n"
     ]
    }
   ],
   "source": [
    "training.info()"
   ]
  },
  {
   "cell_type": "code",
   "execution_count": 41,
   "id": "46b85590",
   "metadata": {},
   "outputs": [],
   "source": [
    "x        = training.drop('prognosis',axis=1)\n",
    "y        = training['prognosis']\n",
    "# y1       = y"
   ]
  },
  {
   "cell_type": "code",
   "execution_count": 42,
   "id": "7c7a4097",
   "metadata": {},
   "outputs": [],
   "source": [
    "\n",
    "reduced_data = training.groupby(training['prognosis']).max()\n"
   ]
  },
  {
   "cell_type": "code",
   "execution_count": 43,
   "id": "12f12542",
   "metadata": {},
   "outputs": [],
   "source": [
    "#mapping strings to numbers\n",
    "le = preprocessing.LabelEncoder()\n",
    "le.fit(y)\n",
    "y = le.transform(y)\n"
   ]
  },
  {
   "cell_type": "code",
   "execution_count": 44,
   "id": "8cd151cc",
   "metadata": {},
   "outputs": [],
   "source": [
    "x_train, x_test, y_train, y_test = train_test_split(x, y, test_size=0.33, random_state=42)\n"
   ]
  },
  {
   "cell_type": "code",
   "execution_count": 45,
   "id": "53b774a2",
   "metadata": {},
   "outputs": [],
   "source": [
    "clf1  = DecisionTreeClassifier()\n",
    "clf = clf1.fit(x_train,y_train)\n",
    "#print(clf.score(x_train,y_train))\n",
    "#print (\"cross result========\")\n",
    "#scores = cross_validation.cross_val_score(clf, x_test, y_test, cv=3)\n",
    "#print (scores)\n",
    "#print (scores.mean())\n",
    "#print(clf.score(testx,testy))"
   ]
  },
  {
   "cell_type": "code",
   "execution_count": 46,
   "id": "1950f3fb",
   "metadata": {},
   "outputs": [],
   "source": [
    "importances = clf.feature_importances_\n",
    "indices = np.argsort(importances)[::-1]\n",
    "features = cols\n",
    "\n",
    "#feature_importances\n",
    "#for f in range(10):\n",
    "#    print(\"%d. feature %d - %s (%f)\" % (f + 1, indices[f], features[indices[f]] ,importances[indices[f]]))\n"
   ]
  },
  {
   "cell_type": "code",
   "execution_count": 47,
   "id": "0f7fc8b8",
   "metadata": {},
   "outputs": [
    {
     "name": "stdout",
     "output_type": "stream",
     "text": [
      "Please reply Yes or No for the following symptoms\n"
     ]
    }
   ],
   "source": [
    "print(\"Please reply Yes or No for the following symptoms\")\n",
    "def print_disease(node):\n",
    "    #print(node)\n",
    "    node = node[0]\n",
    "    #print(len(node))\n",
    "    val  = node.nonzero()\n",
    "    #print(val)\n",
    "    disease = le.inverse_transform(val[0])\n",
    "    return disease"
   ]
  },
  {
   "cell_type": "code",
   "execution_count": 48,
   "id": "73489581",
   "metadata": {},
   "outputs": [],
   "source": [
    "def tree_to_code(tree, feature_names):\n",
    "    tree_ = tree.tree_\n",
    "    #print(tree_)\n",
    "    feature_name = [\n",
    "        feature_names[i] if i != _tree.TREE_UNDEFINED else \"undefined!\"\n",
    "        for i in tree_.feature\n",
    "    ]\n",
    "    #print(\"def tree({}):\".format(\", \".join(feature_names)))\n",
    "    symptoms_present = []\n",
    "    def recurse(node, depth):\n",
    "        indent = \"  \" * depth\n",
    "        if tree_.feature[node] != _tree.TREE_UNDEFINED:\n",
    "            name = feature_name[node]\n",
    "            threshold = tree_.threshold[node]\n",
    "            print(name + \" ?\")\n",
    "            ans = input()\n",
    "            ans = ans.lower()\n",
    "            if ans == 'yes':\n",
    "                val = 1\n",
    "            else:\n",
    "                val = 0\n",
    "            if  val <= threshold:\n",
    "                recurse(tree_.children_left[node], depth + 1)\n",
    "            else:\n",
    "                symptoms_present.append(name)\n",
    "                recurse(tree_.children_right[node], depth + 1)\n",
    "        else:\n",
    "            present_disease = print_disease(tree_.value[node])\n",
    "            print( \"You may have \" +  present_disease )\n",
    "            red_cols = reduced_data.columns\n",
    "            symptoms_given = red_cols[reduced_data.loc[present_disease].values[0].nonzero()]\n",
    "            print(\"symptoms present  \" + str(list(symptoms_present)))\n",
    "            print(\"symptoms given \"  +  str(list(symptoms_given)) )  \n",
    "            confidence_level = (1.0*len(symptoms_present))/len(symptoms_given)\n",
    "            print(\"confidence level is \" + str(confidence_level))\n",
    "\n",
    "    recurse(0, 1)"
   ]
  },
  {
   "cell_type": "code",
   "execution_count": 50,
   "id": "35f2f043",
   "metadata": {},
   "outputs": [
    {
     "name": "stdout",
     "output_type": "stream",
     "text": [
      "redness_of_eyes ?\n",
      "0\n",
      "internal_itching ?\n",
      "0\n",
      "hip_joint_pain ?\n",
      "1\n",
      "increased_appetite ?\n",
      "0\n",
      "inflammatory_nails ?\n",
      "0\n",
      "swollen_extremeties ?\n",
      "0\n",
      "blood_in_sputum ?\n",
      "0\n",
      "yellow_crust_ooze ?\n",
      "0\n",
      "nodal_skin_eruptions ?\n",
      "0\n",
      "unsteadiness ?\n",
      "0\n",
      "weight_loss ?\n",
      "1\n",
      "prominent_veins_on_calf ?\n",
      "0\n",
      "fluid_overload.1 ?\n",
      "0\n",
      "depression ?\n",
      "1\n",
      "lack_of_concentration ?\n",
      "1\n",
      "mild_fever ?\n",
      "1\n",
      "muscle_pain ?\n",
      "1\n",
      "neck_pain ?\n",
      "1\n",
      "altered_sensorium ?\n",
      "0\n",
      "slurred_speech ?\n",
      "0\n",
      "movement_stiffness ?\n",
      "1\n",
      "shivering ?\n",
      "1\n",
      "belly_pain ?\n",
      "0\n",
      "continuous_feel_of_urine ?\n",
      "0\n",
      "rusty_sputum ?\n",
      "0\n",
      "receiving_blood_transfusion ?\n",
      "0\n",
      "itching ?\n",
      "0\n",
      "patches_in_throat ?\n",
      "0\n",
      "family_history ?\n",
      "0\n",
      "stomach_pain ?\n",
      "0\n",
      "coma ?\n",
      "0\n",
      "dark_urine ?\n",
      "0\n",
      "pus_filled_pimples ?\n",
      "0\n",
      "bloody_stool ?\n",
      "0\n",
      "sunken_eyes ?\n",
      "0\n",
      "breathlessness ?\n",
      "0\n",
      "continuous_sneezing ?\n",
      "0\n",
      "blackheads ?\n",
      "0\n",
      "dehydration ?\n",
      "0\n",
      "sweating ?\n",
      "0\n",
      "weakness_of_one_body_side ?\n",
      "1\n",
      "malaise ?\n",
      "0\n",
      "joint_pain ?\n",
      "01\n",
      "muscle_wasting ?\n",
      "0\n",
      "chest_pain ?\n",
      "0\n",
      "skin_rash ?\n",
      "0\n",
      "toxic_look_(typhos) ?\n",
      "0\n",
      "spinning_movements ?\n",
      "0\n",
      "burning_micturition ?\n",
      "0\n",
      "nausea ?\n",
      "0\n",
      "excessive_hunger ?\n",
      "0\n",
      "pain_during_bowel_movements ?\n",
      "0\n",
      "indigestion ?\n",
      "0\n",
      "swollen_blood_vessels ?\n",
      "0\n",
      "stiff_neck ?\n",
      "0\n",
      "distention_of_abdomen ?\n",
      "0\n",
      "['You may have Cervical spondylosis']\n",
      "symptoms present  []\n",
      "symptoms given ['back_pain', 'weakness_in_limbs', 'neck_pain', 'dizziness', 'loss_of_balance']\n",
      "confidence level is 0.0\n"
     ]
    }
   ],
   "source": [
    "tree_to_code(clf,cols)"
   ]
  },
  {
   "cell_type": "code",
   "execution_count": null,
   "id": "f2904b65",
   "metadata": {},
   "outputs": [],
   "source": []
  }
 ],
 "metadata": {
  "kernelspec": {
   "display_name": "Python 3 (ipykernel)",
   "language": "python",
   "name": "python3"
  },
  "language_info": {
   "codemirror_mode": {
    "name": "ipython",
    "version": 3
   },
   "file_extension": ".py",
   "mimetype": "text/x-python",
   "name": "python",
   "nbconvert_exporter": "python",
   "pygments_lexer": "ipython3",
   "version": "3.10.4"
  }
 },
 "nbformat": 4,
 "nbformat_minor": 5
}
